{
 "cells": [
  {
   "cell_type": "code",
   "execution_count": 1,
   "metadata": {},
   "outputs": [],
   "source": [
    "import os\n",
    "import requests\n",
    "import re\n",
    "from datetime import datetime\n",
    "\n",
    "# URL to scrape for matching URLs\n",
    "url_to_scrape = \"https://www.sebi.gov.in/sebiweb/home/HomeAction.do?doListing=yes&sid=6&ssid=25&smid=0%27\"\n",
    "\n",
    "# Send a GET request to the URL\n",
    "response = requests.get(url_to_scrape)\n",
    "\n",
    "# Parse the HTML content\n",
    "soup = BeautifulSoup(response.text, \"html.parser\")\n",
    "\n",
    "# Find all anchor (<a>) tags with href attributes\n",
    "all_links = soup.find_all(\"a\", href=True)\n",
    "\n",
    "# Extract URLs that contain the specified pattern\n",
    "pattern = \"https://www.sebi.gov.in/media-and-notifications/public-notices/may-2024/\"\n",
    "matching_urls = [link[\"href\"] for link in all_links if pattern in link[\"href\"]]\n",
    "\n",
    "# Create a directory to save the PDFs\n",
    "folder_name = \"attempt1\"\n",
    "os.makedirs(folder_name, exist_ok=True)\n",
    "\n",
    "# Get the current date\n",
    "current_date = datetime.now().strftime(\"%Y-%m-%d\")\n",
    "\n",
    "# Now use the matching URLs to fetch PDF links\n",
    "for url in matching_urls:\n",
    "    # Send a GET request to the URL\n",
    "    response = requests.get(url)\n",
    "    \n",
    "    # Extract PDF links using regular expression\n",
    "    pdf_links = re.findall(r'(?<=\\.\\./\\.\\./web/\\?file=)https?://[^\\s]+\\.pdf', response.text)\n",
    "    \n",
    "    # Download PDFs and save them in the folder\n",
    "    for pdf_link in pdf_links:\n",
    "        # Get the PDF content\n",
    "        pdf_response = requests.get(pdf_link)\n",
    "        if pdf_response.status_code == 200:\n",
    "            # Extract the file name from the URL\n",
    "            file_name = pdf_link.split(\"/\")[-1]\n",
    "            # Rename the file by appending the current date\n",
    "            renamed_file_name = f\"{current_date}_{file_name}\"\n",
    "            # Save the PDF in the folder\n",
    "            with open(os.path.join(folder_name, renamed_file_name), \"wb\") as file:\n",
    "                file.write(pdf_response.content)\n",
    "            print(f\"PDF '{renamed_file_name}' downloaded successfully.\")\n",
    "        else:\n",
    "            print(f\"Failed to download PDF from '{pdf_link}'\")\n"
   ]
  }
 ],
 "metadata": {
  "kernelspec": {
   "display_name": "base",
   "language": "python",
   "name": "python3"
  },
  "language_info": {
   "codemirror_mode": {
    "name": "ipython",
    "version": 3
   },
   "file_extension": ".py",
   "mimetype": "text/x-python",
   "name": "python",
   "nbconvert_exporter": "python",
   "pygments_lexer": "ipython3",
   "version": "3.11.5"
  }
 },
 "nbformat": 4,
 "nbformat_minor": 2
}
