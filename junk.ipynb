{
 "cells": [
  {
   "cell_type": "code",
   "execution_count": 4,
   "metadata": {},
   "outputs": [
    {
     "name": "stdout",
     "output_type": "stream",
     "text": [
      "Processed and saved: 2024-05-25_1710233226315.txt\n",
      "Processed and saved: 2024-05-25_1710844257374.txt\n"
     ]
    }
   ],
   "source": [
    "import os\n",
    "import re\n",
    "from pdf2image import convert_from_path\n",
    "import pytesseract\n",
    "from langdetect import detect, LangDetectException\n",
    "\n",
    "def process_pdf(pdf_path):\n",
    "    images = convert_from_path(pdf_path)\n",
    "    extracted_text = []\n",
    "\n",
    "    for image in images:\n",
    "        text = pytesseract.image_to_string(image)\n",
    "        extracted_text.append(text)\n",
    "\n",
    "    combined_text = ' '.join(extracted_text)\n",
    "    return combined_text\n",
    "\n",
    "def save_text(file_path, text):\n",
    "    with open(file_path, 'w', encoding='utf-8') as file:\n",
    "        file.write(text)\n",
    "\n",
    "def remove_hindi_text(text):\n",
    "    sentences = re.split(r'(?<!\\w\\.\\w.)(?<![A-Z][a-z]\\.)(?<=\\.|\\?)\\s', text)\n",
    "    filtered_sentences = []\n",
    "\n",
    "    for sentence in sentences:\n",
    "        try:\n",
    "            # Only process sentences that are not empty or too short\n",
    "            if len(sentence.strip()) > 20 and detect(sentence) != 'hi':\n",
    "                filtered_sentences.append(sentence)\n",
    "        except LangDetectException:\n",
    "            # Skip sentences that cannot be processed\n",
    "            continue\n",
    "\n",
    "    cleaned_text = ' '.join(filtered_sentences)\n",
    "    return cleaned_text\n",
    "\n",
    "def main(folder_path):\n",
    "    for filename in os.listdir(folder_path):\n",
    "        if filename.endswith('.pdf'):\n",
    "            pdf_path = os.path.join(folder_path, filename)\n",
    "            extracted_text = process_pdf(pdf_path)\n",
    "            cleaned_text = remove_hindi_text(extracted_text)\n",
    "            txt_filename = f\"{os.path.splitext(filename)[0]}.txt\"\n",
    "            txt_path = os.path.join(folder_path, txt_filename)\n",
    "            save_text(txt_path, cleaned_text)\n",
    "            print(f\"Processed and saved: {txt_filename}\")\n",
    "\n",
    "# Ensure you have installed the `langdetect` package\n",
    "# You can install it using `pip install langdetect`\n",
    "\n",
    "# Set the folder path containing PDFs\n",
    "folder_path = 'tester'\n",
    "\n",
    "# Run the main function\n",
    "main(folder_path)\n"
   ]
  }
 ],
 "metadata": {
  "kernelspec": {
   "display_name": "pdf_sum",
   "language": "python",
   "name": "python3"
  },
  "language_info": {
   "codemirror_mode": {
    "name": "ipython",
    "version": 3
   },
   "file_extension": ".py",
   "mimetype": "text/x-python",
   "name": "python",
   "nbconvert_exporter": "python",
   "pygments_lexer": "ipython3",
   "version": "3.11.5"
  }
 },
 "nbformat": 4,
 "nbformat_minor": 2
}
